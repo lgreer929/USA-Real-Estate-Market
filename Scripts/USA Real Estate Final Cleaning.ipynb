{
 "cells": [
  {
   "cell_type": "code",
   "execution_count": 1,
   "id": "d2552dd5-8c3a-476e-827f-e0fd1b4909ee",
   "metadata": {},
   "outputs": [],
   "source": [
    "import pandas as pd\n",
    "import numpy as np\n",
    "import os"
   ]
  },
  {
   "cell_type": "code",
   "execution_count": 3,
   "id": "0abcc058-a844-47e2-9d90-8b8d6acf8a33",
   "metadata": {},
   "outputs": [],
   "source": [
    "path = r'C:\\Users\\lisag\\Desktop\\CF Work\\Immersion 6 Tasks'"
   ]
  },
  {
   "cell_type": "code",
   "execution_count": 5,
   "id": "cb215f0f-db08-4360-9426-36ead3a6b971",
   "metadata": {},
   "outputs": [],
   "source": [
    "df = pd.read_csv(os.path.join(path, 'USA Real Estate Cleaned No Outliers.csv'))"
   ]
  },
  {
   "cell_type": "code",
   "execution_count": 7,
   "id": "1efa979b-e3ef-467f-8d23-fb6a1cd6f793",
   "metadata": {},
   "outputs": [],
   "source": [
    "# drop 'Unnamed: 0' column\n",
    "df = df.drop(columns = ['Unnamed: 0'])"
   ]
  },
  {
   "cell_type": "code",
   "execution_count": 9,
   "id": "7b0a8154-adac-4a56-972e-83f7556e4632",
   "metadata": {},
   "outputs": [],
   "source": [
    "# change 'brokered_by' to object/string data type\n",
    "df['brokered_by'] = df['brokered_by'].astype('str')"
   ]
  },
  {
   "cell_type": "code",
   "execution_count": 11,
   "id": "6c13794b-d861-4b37-9102-461e4eba840b",
   "metadata": {},
   "outputs": [],
   "source": [
    "# change 'zip_code' to object/string data type\n",
    "df['zip_code'] = df['zip_code'].astype('str')"
   ]
  },
  {
   "cell_type": "code",
   "execution_count": 13,
   "id": "10da8d5d-8848-41ba-9260-bdf7ef773808",
   "metadata": {},
   "outputs": [],
   "source": [
    "# convert to datetime format and replace zeros will NaT (Not a Time)\n",
    "df['prev_sold_date'] = pd.to_datetime(df['prev_sold_date'], errors='coerce')"
   ]
  },
  {
   "cell_type": "code",
   "execution_count": 15,
   "id": "0df7d57e-671b-4998-902f-2f9b6c2914ad",
   "metadata": {},
   "outputs": [
    {
     "data": {
      "text/html": [
       "<div>\n",
       "<style scoped>\n",
       "    .dataframe tbody tr th:only-of-type {\n",
       "        vertical-align: middle;\n",
       "    }\n",
       "\n",
       "    .dataframe tbody tr th {\n",
       "        vertical-align: top;\n",
       "    }\n",
       "\n",
       "    .dataframe thead th {\n",
       "        text-align: right;\n",
       "    }\n",
       "</style>\n",
       "<table border=\"1\" class=\"dataframe\">\n",
       "  <thead>\n",
       "    <tr style=\"text-align: right;\">\n",
       "      <th></th>\n",
       "      <th>brokered_by</th>\n",
       "      <th>status</th>\n",
       "      <th>price</th>\n",
       "      <th>bed</th>\n",
       "      <th>bath</th>\n",
       "      <th>acre_lot</th>\n",
       "      <th>city</th>\n",
       "      <th>state</th>\n",
       "      <th>zip_code</th>\n",
       "      <th>house_size</th>\n",
       "      <th>prev_sold_date</th>\n",
       "    </tr>\n",
       "  </thead>\n",
       "  <tbody>\n",
       "    <tr>\n",
       "      <th>0</th>\n",
       "      <td>103378.0</td>\n",
       "      <td>for_sale</td>\n",
       "      <td>105000.0</td>\n",
       "      <td>3.0</td>\n",
       "      <td>2.0</td>\n",
       "      <td>0.12</td>\n",
       "      <td>Adjuntas</td>\n",
       "      <td>Puerto Rico</td>\n",
       "      <td>601.0</td>\n",
       "      <td>920.0</td>\n",
       "      <td>1970-01-01</td>\n",
       "    </tr>\n",
       "    <tr>\n",
       "      <th>1</th>\n",
       "      <td>52707.0</td>\n",
       "      <td>for_sale</td>\n",
       "      <td>80000.0</td>\n",
       "      <td>4.0</td>\n",
       "      <td>2.0</td>\n",
       "      <td>0.08</td>\n",
       "      <td>Adjuntas</td>\n",
       "      <td>Puerto Rico</td>\n",
       "      <td>601.0</td>\n",
       "      <td>1527.0</td>\n",
       "      <td>1970-01-01</td>\n",
       "    </tr>\n",
       "    <tr>\n",
       "      <th>2</th>\n",
       "      <td>103379.0</td>\n",
       "      <td>for_sale</td>\n",
       "      <td>67000.0</td>\n",
       "      <td>2.0</td>\n",
       "      <td>1.0</td>\n",
       "      <td>0.15</td>\n",
       "      <td>Juana Diaz</td>\n",
       "      <td>Puerto Rico</td>\n",
       "      <td>795.0</td>\n",
       "      <td>748.0</td>\n",
       "      <td>1970-01-01</td>\n",
       "    </tr>\n",
       "    <tr>\n",
       "      <th>3</th>\n",
       "      <td>31239.0</td>\n",
       "      <td>for_sale</td>\n",
       "      <td>145000.0</td>\n",
       "      <td>4.0</td>\n",
       "      <td>2.0</td>\n",
       "      <td>0.10</td>\n",
       "      <td>Ponce</td>\n",
       "      <td>Puerto Rico</td>\n",
       "      <td>731.0</td>\n",
       "      <td>1800.0</td>\n",
       "      <td>1970-01-01</td>\n",
       "    </tr>\n",
       "    <tr>\n",
       "      <th>4</th>\n",
       "      <td>103378.0</td>\n",
       "      <td>for_sale</td>\n",
       "      <td>179000.0</td>\n",
       "      <td>4.0</td>\n",
       "      <td>3.0</td>\n",
       "      <td>0.46</td>\n",
       "      <td>San Sebastian</td>\n",
       "      <td>Puerto Rico</td>\n",
       "      <td>612.0</td>\n",
       "      <td>2520.0</td>\n",
       "      <td>1970-01-01</td>\n",
       "    </tr>\n",
       "  </tbody>\n",
       "</table>\n",
       "</div>"
      ],
      "text/plain": [
       "  brokered_by    status     price  bed  bath  acre_lot           city  \\\n",
       "0    103378.0  for_sale  105000.0  3.0   2.0      0.12       Adjuntas   \n",
       "1     52707.0  for_sale   80000.0  4.0   2.0      0.08       Adjuntas   \n",
       "2    103379.0  for_sale   67000.0  2.0   1.0      0.15     Juana Diaz   \n",
       "3     31239.0  for_sale  145000.0  4.0   2.0      0.10          Ponce   \n",
       "4    103378.0  for_sale  179000.0  4.0   3.0      0.46  San Sebastian   \n",
       "\n",
       "         state zip_code  house_size prev_sold_date  \n",
       "0  Puerto Rico    601.0       920.0     1970-01-01  \n",
       "1  Puerto Rico    601.0      1527.0     1970-01-01  \n",
       "2  Puerto Rico    795.0       748.0     1970-01-01  \n",
       "3  Puerto Rico    731.0      1800.0     1970-01-01  \n",
       "4  Puerto Rico    612.0      2520.0     1970-01-01  "
      ]
     },
     "execution_count": 15,
     "metadata": {},
     "output_type": "execute_result"
    }
   ],
   "source": [
    "df.head()"
   ]
  },
  {
   "cell_type": "code",
   "execution_count": 17,
   "id": "cfdac89c-bc94-4fdb-aac2-8761d5c535ec",
   "metadata": {},
   "outputs": [
    {
     "data": {
      "text/plain": [
       "brokered_by               object\n",
       "status                    object\n",
       "price                    float64\n",
       "bed                      float64\n",
       "bath                     float64\n",
       "acre_lot                 float64\n",
       "city                      object\n",
       "state                     object\n",
       "zip_code                  object\n",
       "house_size               float64\n",
       "prev_sold_date    datetime64[ns]\n",
       "dtype: object"
      ]
     },
     "execution_count": 17,
     "metadata": {},
     "output_type": "execute_result"
    }
   ],
   "source": [
    "df.dtypes"
   ]
  },
  {
   "cell_type": "code",
   "execution_count": 19,
   "id": "1ca4a40f-40ce-4d77-aee8-076d00259f17",
   "metadata": {},
   "outputs": [],
   "source": [
    "# rename columns\n",
    "df.rename(columns = {'brokered_by' : 'Broker Number', 'status': 'House Status', 'price': 'House Price', \n",
    "                     'bed': 'N. Beds', 'bath': 'N. Baths', 'acre_lot' : 'N. Acres', 'city' : 'City', 'state' : 'State', 'zip_code' : 'Zip Code', \n",
    "                     'house_size' : 'House SQFT', 'prev_sold_date' : 'Last Sell Date' }, inplace = True)"
   ]
  },
  {
   "cell_type": "code",
   "execution_count": 21,
   "id": "bd582555-1c2a-40b9-92ef-822f447a2a6d",
   "metadata": {},
   "outputs": [],
   "source": [
    "# export cleaned dataframe\n",
    "df.to_csv(os.path.join(path, 'USA Real Estate Final.csv'))"
   ]
  },
  {
   "cell_type": "code",
   "execution_count": null,
   "id": "41c0a12b-1977-46a3-bfd4-dc248f048fac",
   "metadata": {},
   "outputs": [],
   "source": []
  }
 ],
 "metadata": {
  "kernelspec": {
   "display_name": "Python 3 (ipykernel)",
   "language": "python",
   "name": "python3"
  },
  "language_info": {
   "codemirror_mode": {
    "name": "ipython",
    "version": 3
   },
   "file_extension": ".py",
   "mimetype": "text/x-python",
   "name": "python",
   "nbconvert_exporter": "python",
   "pygments_lexer": "ipython3",
   "version": "3.12.7"
  }
 },
 "nbformat": 4,
 "nbformat_minor": 5
}
